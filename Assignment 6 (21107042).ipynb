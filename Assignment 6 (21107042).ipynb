{
 "cells": [
  {
   "cell_type": "code",
   "execution_count": 102,
   "id": "fc9773aa",
   "metadata": {},
   "outputs": [
    {
     "name": "stdout",
     "output_type": "stream",
     "text": [
      "Enter a number to check if it is a perfect number: 6\n",
      "True\n"
     ]
    }
   ],
   "source": [
    "'''## Q1 ## Write a Python function to check whether a number is perfect or not. According to Wikipedia : In number theory, \n",
    "            a perfect number is a positive integer that is equal to the sum of its proper positive divisors, that is, the sum of its\n",
    "            positive divisors excluding the number itself (also known as its aliquot sum). Equivalently, a perfect number is a\n",
    "            number that is half the sum of all of its positive divisors (including itself).'''\n",
    "\n",
    "def perfect_number(num):\n",
    "    sum = 0\n",
    "    for x in range(1, num):\n",
    "        if num % x == 0:\n",
    "            sum += x\n",
    "    return sum == num\n",
    "num = int(input(\"Enter a number to check if it is a perfect number: \"))\n",
    "print(perfect_number(num))"
   ]
  },
  {
   "cell_type": "code",
   "execution_count": 103,
   "id": "c119af40",
   "metadata": {},
   "outputs": [
    {
     "name": "stdout",
     "output_type": "stream",
     "text": [
      "Enter the string to check if it is a palindrome: racecar\n",
      "The entered string is a Palindrome.\n"
     ]
    }
   ],
   "source": [
    "'''## Q2 ## Write a Python function that checks whether a passed string is palindrome or not. Note: A palindrome is a word,\n",
    "            phrase, or sequence that reads the same backward as forward, e.g., madam or nurses run.'''\n",
    "\n",
    "def isPalindrome(string):\n",
    "    rev_string = string[::-1]\n",
    "    \n",
    "    if rev_string == string :\n",
    "        print(\"The entered string is a Palindrome.\")\n",
    "        \n",
    "    else:\n",
    "        print(\"The entered string is not a Palindrome.\")\n",
    "        \n",
    "string = str(input(\"Enter the string to check if it is a palindrome: \"))\n",
    "isPalindrome(string)"
   ]
  },
  {
   "cell_type": "code",
   "execution_count": 104,
   "id": "c6d937cd",
   "metadata": {},
   "outputs": [
    {
     "name": "stdout",
     "output_type": "stream",
     "text": [
      "Enter the number of rows you want to be printed: 5\n",
      "    1 \n",
      "   1 1 \n",
      "  1 2 1 \n",
      " 1 3 3 1 \n",
      "1 4 6 4 1 \n"
     ]
    }
   ],
   "source": [
    "'''## Q3 ## Write a Python function that prints out the first n rows of Pascal's triangle. \n",
    "            Note: Each number is the two numbers above it added together'''\n",
    "\n",
    "from math import factorial\n",
    "def pascal_triangle(n):\n",
    "\n",
    "    for i in range(n):\n",
    "        for j in range(n-1-i):\n",
    "            print(\" \", end = \"\")\n",
    "        for k in range (i+1):\n",
    "            print(factorial(i) // (factorial(i-k)*factorial(k)) , end=\" \")     # nCr = n! / ((n-r)! * r!)\n",
    "        print()\n",
    "        \n",
    "n = int(input(\"Enter the number of rows you want to be printed: \"))\n",
    "pascal_triangle(n)"
   ]
  },
  {
   "cell_type": "code",
   "execution_count": 105,
   "id": "5f5d0877",
   "metadata": {
    "scrolled": true
   },
   "outputs": [
    {
     "name": "stdout",
     "output_type": "stream",
     "text": [
      "Enter a sentence: qwertyuiop asdfghjkl zxcvbnm\n",
      "The entered sentence is a pangram.\n"
     ]
    }
   ],
   "source": [
    "'''## Q4 ## Write a Python function to check whether a string is a pangram or not. \n",
    "            Note: Pangrams are words or sentences containing every letter of the alphabet at least once.\n",
    "            example: \"The quick brown fox jumps over the lazy dog\"'''\n",
    "\n",
    "def pangram(string):\n",
    "    alphabet = \"abcdefghijklmnopqrstuvwxyz\"\n",
    "    \n",
    "    for buck in alphabet:\n",
    "        if buck not in string:\n",
    "            return False\n",
    "        return True\n",
    "\n",
    "user_string=str(input(\"Enter a sentence: \"))\n",
    "\n",
    "if pangram(user_string) == False:\n",
    "    print(\"The entered sentence is not a pangram.\")\n",
    "    \n",
    "else:\n",
    "    print(\"The entered sentence is a pangram.\")"
   ]
  },
  {
   "cell_type": "code",
   "execution_count": 70,
   "id": "50a2a22d",
   "metadata": {},
   "outputs": [
    {
     "name": "stdout",
     "output_type": "stream",
     "text": [
      "Enter a hyphen separated sentence: green-red-yellow-black-white\n",
      "black-green-red-white-yellow\n"
     ]
    }
   ],
   "source": [
    "'''## Q5 ## Write a Python function that accepts a hyphen-separated sequence of words as input\n",
    "            and prints the words in a hyphen-separated sequence after sorting them alphabetically.\n",
    "            Sample Items : green-red-yellow-black-white\n",
    "            Expected Result : black-green-red-white-yellow'''\n",
    "\n",
    "input_string=str(input(\"Enter a hyphen separated sentence: \"))\n",
    "\n",
    "li = list(input_string.split(\"-\"))\n",
    "li.sort()\n",
    "\n",
    "print(\"-\".join(li))"
   ]
  },
  {
   "cell_type": "code",
   "execution_count": 106,
   "id": "e26b4cf4",
   "metadata": {},
   "outputs": [
    {
     "name": "stdout",
     "output_type": "stream",
     "text": [
      "\n",
      "Student ID: 21107042\n",
      "Student Name: Shubham\n",
      "\n",
      "Student ID: 211070121\n",
      "Student Name: Monte Carlo\n",
      "\n",
      "Student Name: Monte Carlo\n",
      "Student Class: V\n"
     ]
    }
   ],
   "source": [
    "'''## Q6 ## Write a Python function student_data () which will print the id of a student (student_id).\n",
    "        If the user passes an argument student_name or student_class the function will print the\n",
    "        student name and class.'''\n",
    "\n",
    "def student_data(student_id, **kwargs):\n",
    "    print(f\"\\nStudent ID: {student_id}\")\n",
    "    \n",
    "    if 'student_name' in kwargs:\n",
    "        print(f\"Student Name: {kwargs['student_name']}\")\n",
    "    \n",
    "    if 'student_name' and 'student_class' in kwargs:\n",
    "            print(f\"\\nStudent Name: {kwargs['student_name']}\")\n",
    "            print(f\"Student Class: {kwargs['student_class']}\")\n",
    "\n",
    "\n",
    "student_data(student_id='21107042', student_name='Shubham')\n",
    "\n",
    "student_data(student_id='211070121', student_name='Monte Carlo', student_class ='V')"
   ]
  },
  {
   "cell_type": "code",
   "execution_count": 110,
   "id": "458b4197",
   "metadata": {},
   "outputs": [
    {
     "name": "stdout",
     "output_type": "stream",
     "text": [
      "\n",
      "## Check whether the said are instances of the built-in object class or not.\n",
      "True\n",
      "False\n",
      "True\n",
      "False\n",
      "\n",
      "## Check whether the said classes are subclasses of the built-in object class or not.\n",
      "True\n",
      "True\n"
     ]
    }
   ],
   "source": [
    "'''## Q7 ## Write a Python program to create two empty classes, Student and Marks. Now create\n",
    "            some instances and check whether they are instances of the said classes or not. Also,\n",
    "            check whether the said classes are subclasses of the built-in object class or not.'''\n",
    "\n",
    "class Student:\n",
    "    pass \n",
    "class Marks:\n",
    "    pass \n",
    "student1 = Student()\n",
    "marks1 = Marks()\n",
    "print(\"\\n## Check whether the said are instances of the built-in object class or not.\")\n",
    "print(isinstance(student1, Student))\n",
    "print(isinstance(marks1, Student))\n",
    "print(isinstance(marks1, Marks)) \n",
    "print(isinstance(student1, Marks))\n",
    "print(\"\\n## Check whether the said classes are subclasses of the built-in object class or not.\")\n",
    "print(issubclass(Student, object))\n",
    "print(issubclass(Marks, object))"
   ]
  },
  {
   "cell_type": "code",
   "execution_count": 111,
   "id": "7de83cd0",
   "metadata": {},
   "outputs": [
    {
     "name": "stdout",
     "output_type": "stream",
     "text": [
      "[[-10, 2, 8], [-7, -3, 10]]\n"
     ]
    }
   ],
   "source": [
    "'''## Q8 ## Write a Python class to find the three elements that sum to zero from a set of n real numbers.\n",
    "            Input array: [-25, -10, -7, -3, 2, 4, 8, 10]\n",
    "            Output: [[-10, 2, 8], [-7, -3, 10]]'''\n",
    "\n",
    "class py_solution:\n",
    "    def threeSum(self, nums):\n",
    "        nums, result, i = sorted(nums), [], 0\n",
    "        \n",
    "        while i < len(nums) - 2:\n",
    "            j, k = i + 1, len(nums) - 1\n",
    "            \n",
    "            while j < k:\n",
    "                \n",
    "                if nums[i] + nums[j] + nums[k] < 0:\n",
    "                    j += 1\n",
    "                elif nums[i] + nums[j] + nums[k] > 0:\n",
    "                    k -= 1\n",
    "                else:\n",
    "                    result.append([nums[i], nums[j], nums[k]])\n",
    "                    j, k = j + 1, k - 1\n",
    "                    \n",
    "                    while j < k and nums[j] == nums[j - 1]:\n",
    "                        j += 1\n",
    "                        \n",
    "                    while j < k and nums[k] == nums[k + 1]:\n",
    "                        k -= 1\n",
    "            i += 1\n",
    "            while i < len(nums) - 2 and nums[i] == nums[i - 1]:\n",
    "                i += 1\n",
    "                \n",
    "        return result\n",
    "\n",
    "print(py_solution().threeSum([-25, -10, -7, -3, 2, 4, 8, 10]))"
   ]
  },
  {
   "cell_type": "code",
   "execution_count": 112,
   "id": "b67aba3d",
   "metadata": {},
   "outputs": [
    {
     "name": "stdout",
     "output_type": "stream",
     "text": [
      "Enter the sequence of parantheses: []{}()\n",
      "[]{}() - is a valid string of parentheses.\n"
     ]
    }
   ],
   "source": [
    "'''## Q9 ## Write a Python class to find validity of a string of parentheses, '(', ')', '{', '}', '[' and ']'.\n",
    "            These brackets must be close in the correct order, for example \"()\" and \"()[]{}\" are valid\n",
    "            but \"[)\", \"({[)]\" and \"{{{\" are invalid.'''\n",
    "class parantheses:\n",
    "    def find(str):\n",
    "        a= ['()', '{}', '[]'] \n",
    "        while any(i in str for i in a):\n",
    "            for j in a:\n",
    "                str = str.replace(j, '') \n",
    "        return not str \n",
    "\n",
    "string = input(\"Enter the sequence of parantheses: \")\n",
    "if parantheses.find(s):\n",
    "    print(string,\"-\",\"is a valid string of parentheses.\")\n",
    "else:\n",
    "    print(string,\"-\",\"is an invalid string of parentheses.\")\n"
   ]
  }
 ],
 "metadata": {
  "kernelspec": {
   "display_name": "Python 3",
   "language": "python",
   "name": "python3"
  },
  "language_info": {
   "codemirror_mode": {
    "name": "ipython",
    "version": 3
   },
   "file_extension": ".py",
   "mimetype": "text/x-python",
   "name": "python",
   "nbconvert_exporter": "python",
   "pygments_lexer": "ipython3",
   "version": "3.8.8"
  }
 },
 "nbformat": 4,
 "nbformat_minor": 5
}
